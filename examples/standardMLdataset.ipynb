{
 "cells": [
  {
   "attachments": {},
   "cell_type": "markdown",
   "metadata": {},
   "source": [
    "# Example Notebook: Using `fair-lnc-evaluation` on standard ML datasets\n",
    "\n",
    "This notebook demonstrates the usage of `fair-lnc-evaluation` to empirically evaluate the **Polishing Labels** noise correction method (Nicholson, Bryce, et al. \"Label noise correction methods.\" 2015 IEEE International Conference on Data Science and Advanced Analytics (DSAA). IEEE, 2015.) on the *PhishingWebsites* dataset (https://www.openml.org/search?type=data&status=active&id=4534)."
   ]
  },
  {
   "attachments": {},
   "cell_type": "markdown",
   "metadata": {},
   "source": [
    "## Setup\n",
    "\n",
    "First, import the necessary libraries.\n",
    "\n",
    "The data should be loaded to a `Dataset` object. Some OpenML datasets can be loaded using the `get_data` method.\n",
    "\n",
    "The considered label noise correction method needs to be a derived class from base class `LabelCorrectionModel`, from the `label-noise-correction` package (https://pypi.org/project/label-noise-correction/)."
   ]
  },
  {
   "cell_type": "code",
   "execution_count": 7,
   "metadata": {},
   "outputs": [],
   "source": [
    "from fair_lnc_evaluation.empirical_evaluation import EmpiricalEvaluation\n",
    "from fair_lnc_evaluation.classifier import Classifier\n",
    "from fair_lnc_evaluation.data import get_data\n",
    "\n",
    "from label_noise_correction.pl import PolishingLabels\n",
    "from sklearn.linear_model import LogisticRegression\n",
    "import mlflow\n",
    "import matplotlib.pyplot as plt"
   ]
  },
  {
   "cell_type": "code",
   "execution_count": 2,
   "metadata": {},
   "outputs": [],
   "source": [
    "# Load data\n",
    "\n",
    "dataset = get_data('phishing', 'having_IP_Address')\n",
    "\n",
    "# Initialize label noise correction method\n",
    "\n",
    "lnc = PolishingLabels(LogisticRegression, n_folds=10)"
   ]
  },
  {
   "attachments": {},
   "cell_type": "markdown",
   "metadata": {},
   "source": [
    "## Running an experiment\n",
    "\n",
    "To evaluate the considered label noise correction method on a dataset, initialize an `EmpiricalEvaluation` object and call its `start_experiment` method, which will run the necessary experiments according to the proposed methodology and save the results to MLflow.\n",
    "\n",
    "Here, as we want to use a standard ML dataset, which is assumed to have clean labels, we set the `noise_injection` parameter to `True` and the `noise_type` to \"bias\" so that the labels are manipulated to simulate this type of noise at increasing rates."
   ]
  },
  {
   "cell_type": "code",
   "execution_count": 3,
   "metadata": {},
   "outputs": [
    {
     "name": "stderr",
     "output_type": "stream",
     "text": [
      "2023/06/12 17:54:43 INFO mlflow.tracking.fluent: Experiment with name 'phishing_having_IP_Address_PL_bias' does not exist. Creating a new experiment.\n"
     ]
    },
    {
     "name": "stdout",
     "output_type": "stream",
     "text": [
      "Starting experiment: phishing_having_IP_Address_PL_bias\n",
      "Injecting bias noise at rates: [0.1, 0.2, 0.3, 0.4, 0.5]\n"
     ]
    },
    {
     "data": {
      "application/vnd.jupyter.widget-view+json": {
       "model_id": "91e31d0df311472fae554b624213e9c5",
       "version_major": 2,
       "version_minor": 0
      },
      "text/plain": [
       "  0%|          | 0/5 [00:00<?, ?it/s]"
      ]
     },
     "metadata": {},
     "output_type": "display_data"
    }
   ],
   "source": [
    "evaluation = EmpiricalEvaluation(dataset, lnc)\n",
    "\n",
    "evaluation.start_experiment(True, \n",
    "                            Classifier(LogisticRegression(), 'LogReg'), \n",
    "                            noise_type='bias', \n",
    "                            metrics=['roc_auc', 'predictive_equality_difference'], \n",
    "                            classification_thresholds=[0.5])"
   ]
  },
  {
   "attachments": {},
   "cell_type": "markdown",
   "metadata": {},
   "source": [
    "## Analyze Results\n",
    "\n",
    "Next, we will retrieve the run data from MLflow.\n"
   ]
  },
  {
   "cell_type": "code",
   "execution_count": 4,
   "metadata": {},
   "outputs": [],
   "source": [
    "results = mlflow.search_runs(experiment_names=['phishing_having_IP_Address_PL_bias'], order_by=['start_time DESC'])"
   ]
  },
  {
   "attachments": {},
   "cell_type": "markdown",
   "metadata": {},
   "source": [
    "### Original test set\n",
    "\n",
    "Finally, let's analyze the experiment results by accessing the stored metrics and parameters. \n",
    "\n",
    "Here, we analyze how the **Polishing Labels** method performed on a noise-free testing scenario (i.e., the *original* test set), comparing its performance to the performance of using the *original* train set (assumed to be noise-free) and the *noisy* train sets, which were manipulated for the experiments.\n"
   ]
  },
  {
   "cell_type": "code",
   "execution_count": 26,
   "metadata": {},
   "outputs": [
    {
     "data": {
      "image/png": "[encoded data removed]",
      "text/plain": [
       "<Figure size 432x288 with 1 Axes>"
      ]
     },
     "metadata": {
      "needs_background": "light"
     },
     "output_type": "display_data"
    }
   ],
   "source": [
    "colors = {'original': 'black', 'noisy': 'red', 'corrected': 'tab:blue'}\n",
    "markers = {0.1: 'o', 0.2: 's', 0.3: 'D', 0.4: 'P', 0.5: 'X'}\n",
    "\n",
    "plt.scatter(results.loc[(results['tags.test_set'] == 'original') & (results['tags.train_set'] == 'original')]['metrics.predictive_equality_difference_0.5'].values[0],\n",
    "            results.loc[(results['tags.test_set'] == 'original') & (results['tags.train_set'] == 'original')]['metrics.roc_auc'].values[0],\n",
    "            color=colors['original'], marker='x', label='original')\n",
    "\n",
    "for train_set in ['noisy', 'corrected']:\n",
    "    values = results.loc[(results['tags.test_set'] == 'original') & (results['tags.train_set'] == train_set)].sort_values(['params.noise_rate'])\n",
    "    auc = values['metrics.roc_auc'].values\n",
    "    fairness = values['metrics.predictive_equality_difference_0.5'].values\n",
    "\n",
    "    for i in range(5):\n",
    "        if train_set == 'noisy':\n",
    "            plt.scatter(fairness[i], auc[i], color=colors[train_set], marker=markers[(i+1)/10], label=f'noise rate: {(i+1)/10}')\n",
    "        plt.scatter(fairness[i], auc[i], color=colors[train_set], marker=markers[(i+1)/10])\n",
    "    plt.plot(fairness, auc, label=train_set, color=colors[train_set])\n",
    "\n",
    "plt.legend(bbox_to_anchor=(1, 1), loc='upper left')\n",
    "plt.xlabel('Predictive equality difference')\n",
    "plt.ylabel('AUC')\n",
    "plt.title('Fairness vs. AUC trade-off')\n",
    "plt.show()"
   ]
  }
 ],
 "metadata": {
  "kernelspec": {
   "display_name": "base",
   "language": "python",
   "name": "python3"
  },
  "language_info": {
   "codemirror_mode": {
    "name": "ipython",
    "version": 3
   },
   "file_extension": ".py",
   "mimetype": "text/x-python",
   "name": "python",
   "nbconvert_exporter": "python",
   "pygments_lexer": "ipython3",
   "version": "3.8.12"
  },
  "orig_nbformat": 4
 },
 "nbformat": 4,
 "nbformat_minor": 2
}
