{
 "cells": [
  {
   "attachments": {},
   "cell_type": "markdown",
   "metadata": {},
   "source": [
    "# Example Notebook: Using `fair-lnc-evaluation` on fairness benchmark datasets\n",
    "\n",
    "This notebook demonstrates the usage of `fair-lnc-evaluation` to empirically evaluate several noise correction methods on the *Adult* dataset (https://www.openml.org/search?type=data&status=active&id=43898)."
   ]
  },
  {
   "attachments": {},
   "cell_type": "markdown",
   "metadata": {},
   "source": [
    "## Setup\n",
    "\n",
    "First, import the necessary libraries.\n",
    "\n",
    "The data should be loaded to a `Dataset` object. Some OpenML datasets can be loaded using the `get_data` method.\n",
    "\n",
    "The considered label noise correction methods need to be derived classes from base class `LabelCorrectionModel`, from the `label-noise-correction` package (https://pypi.org/project/label-noise-correction/)."
   ]
  },
  {
   "cell_type": "code",
   "execution_count": 22,
   "metadata": {},
   "outputs": [],
   "source": [
    "from fair_lnc_evaluation.empirical_evaluation import EmpiricalEvaluation\n",
    "from fair_lnc_evaluation.classifier import Classifier\n",
    "from fair_lnc_evaluation.data import get_data\n",
    "\n",
    "from label_noise_correction.pl import PolishingLabels\n",
    "from label_noise_correction.hlnc import HybridLabelNoiseCorrection\n",
    "from label_noise_correction.cc import ClusterBasedCorrection\n",
    "from sklearn.linear_model import LogisticRegression\n",
    "import mlflow\n",
    "import matplotlib.pyplot as plt"
   ]
  },
  {
   "cell_type": "code",
   "execution_count": 6,
   "metadata": {},
   "outputs": [],
   "source": [
    "import warnings\n",
    "warnings.filterwarnings(\"ignore\")"
   ]
  },
  {
   "cell_type": "code",
   "execution_count": 23,
   "metadata": {},
   "outputs": [],
   "source": [
    "# Load data\n",
    "\n",
    "dataset = get_data('adult', 'sex_Male')\n",
    "\n",
    "# Initialize label noise correction methods\n",
    "\n",
    "pl = PolishingLabels(LogisticRegression, n_folds=10)\n",
    "hlnc = HybridLabelNoiseCorrection(n_clusters=20)\n",
    "cc = ClusterBasedCorrection(n_iterations=10, n_clusters=20)\n",
    "\n",
    "lnc = [pl, hlnc, cc]"
   ]
  },
  {
   "attachments": {},
   "cell_type": "markdown",
   "metadata": {},
   "source": [
    "## Running an experiment\n",
    "\n",
    "To evaluate the considered label noise correction method on a dataset, initialize an `EmpiricalEvaluation` object and call its `start_experiment` method, which will run the necessary experiments according to the proposed methodology and save the results to MLflow.\n",
    "\n",
    "Here, as we want to use a fairness benchmark dataset, which is originally biased, we set the `noise_injection` parameter to `False` so that the original labels are used."
   ]
  },
  {
   "cell_type": "code",
   "execution_count": 24,
   "metadata": {},
   "outputs": [
    {
     "name": "stderr",
     "output_type": "stream",
     "text": [
      "2023/06/13 10:07:52 INFO mlflow.tracking.fluent: Experiment with name 'adult_sex_Male_CC' does not exist. Creating a new experiment.\n"
     ]
    },
    {
     "name": "stdout",
     "output_type": "stream",
     "text": [
      "Starting experiment: adult_sex_Male_CC\n"
     ]
    }
   ],
   "source": [
    "for model in lnc:\n",
    "    evaluation = EmpiricalEvaluation(dataset, model)\n",
    "\n",
    "    evaluation.start_experiment(False, \n",
    "                                Classifier(LogisticRegression(), 'LogReg'),\n",
    "                                metrics=['roc_auc', 'predictive_equality_difference'], \n",
    "                                classification_thresholds=[0.5])"
   ]
  },
  {
   "attachments": {},
   "cell_type": "markdown",
   "metadata": {},
   "source": [
    "## Analyze Results\n",
    "\n",
    "Next, we will retrieve the run data from MLflow."
   ]
  },
  {
   "cell_type": "code",
   "execution_count": 25,
   "metadata": {},
   "outputs": [],
   "source": [
    "results = {}\n",
    "\n",
    "for model in lnc:\n",
    "    results[model.name] = mlflow.search_runs(experiment_names=[f'adult_sex_Male_{model.name}'], order_by=['start_time DESC'])\n",
    "    run = results[model.name]['tags.run'].unique()[0]\n",
    "    results[model.name] = results[model.name].loc[results[model.name]['tags.run'] == run]"
   ]
  },
  {
   "attachments": {},
   "cell_type": "markdown",
   "metadata": {},
   "source": [
    "### Originally biased test set\n",
    "\n",
    "Finally, let's analyze the experiment results by accessing the stored metrics and parameters. \n",
    "\n",
    "Here, we analyze how the **Polishing Labels** method performed on a noisy testing scenario (i.e., the *originally biased* test set), comparing its performance to the performance of using the *originally biased* train set (which has noisy labels)."
   ]
  },
  {
   "cell_type": "code",
   "execution_count": 27,
   "metadata": {},
   "outputs": [
    {
     "data": {
      "image/png": "[encoded data removed]",
      "text/plain": [
       "<Figure size 432x288 with 1 Axes>"
      ]
     },
     "metadata": {
      "needs_background": "light"
     },
     "output_type": "display_data"
    }
   ],
   "source": [
    "run = results['PL']\n",
    "plt.scatter(run.loc[(run['tags.test_set'] == 'noisy') & (run['tags.train_set'] == 'noisy')]['metrics.predictive_equality_difference_0.5'].values[0],\n",
    "            run.loc[(run['tags.test_set'] == 'noisy') & (run['tags.train_set'] == 'noisy')]['metrics.roc_auc'].values[0],\n",
    "            color='red', marker='x', label='originally biased')\n",
    "\n",
    "colors = {'PL': 'tab:blue', 'HLNC': 'tab:red', 'CC': 'tab:green'}\n",
    "\n",
    "for model in lnc:\n",
    "    run = results[model.name]\n",
    "    plt.scatter(run.loc[(run['tags.test_set'] == 'noisy') & (run['tags.train_set'] == 'corrected')]['metrics.predictive_equality_difference_0.5'].values[0],\n",
    "                run.loc[(run['tags.test_set'] == 'noisy') & (run['tags.train_set'] == 'corrected')]['metrics.roc_auc'].values[0],\n",
    "                color=colors[model.name], label=model.name)\n",
    "\n",
    "plt.legend(bbox_to_anchor=(1, 1), loc='upper left')\n",
    "plt.xlabel('Predictive equality difference')\n",
    "plt.ylabel('AUC')\n",
    "plt.title('Fairness vs. AUC trade-off')\n",
    "plt.show()"
   ]
  }
 ],
 "metadata": {
  "kernelspec": {
   "display_name": "base",
   "language": "python",
   "name": "python3"
  },
  "language_info": {
   "codemirror_mode": {
    "name": "ipython",
    "version": 3
   },
   "file_extension": ".py",
   "mimetype": "text/x-python",
   "name": "python",
   "nbconvert_exporter": "python",
   "pygments_lexer": "ipython3",
   "version": "3.8.12"
  },
  "orig_nbformat": 4
 },
 "nbformat": 4,
 "nbformat_minor": 2
}
